{
 "cells": [
  {
   "cell_type": "code",
   "execution_count": null,
   "id": "0",
   "metadata": {},
   "outputs": [],
   "source": [
    "import pandas as pd\n",
    "import omop_mapping_utils as omp\n",
    "from omop_mapping_utils import compare_dataframes\n",
    "from itables import init_notebook_mode, show\n",
    "\n",
    "init_notebook_mode(all_interactive=True)\n",
    "\n",
    "filepath = \"testdata\"\n",
    "df1 = pd.read_csv(f\"{filepath}/ICD10fi.usagi.csv\")\n",
    "df2 = pd.read_csv(f\"{filepath}/ICD10fi.fixedEF.usagi.csv\")\n",
    "\n",
    "df1.head(2)\n",
    "show(df1, scrollY=\"200px\", scrollCollapse=True, paging=False)"
   ]
  },
  {
   "cell_type": "markdown",
   "id": "1",
   "metadata": {},
   "source": [
    "## Unit test data"
   ]
  },
  {
   "cell_type": "code",
   "execution_count": null,
   "id": "2",
   "metadata": {},
   "outputs": [],
   "source": [
    "testdata1 = {\n",
    "    'sourceCode': [10, 20, 30, 40, 50, 50, 60, 80, 80],\n",
    "    'sourceName': ['Same', 'Will be changed', 'Same 2', 'Not in 2', \n",
    "                   'Double 1 Same',  'Double 2 will change',\n",
    "                   'Only in 1',\n",
    "                   'Double 3 Same', 'Double 3 Same'\n",
    "                  ],\n",
    "    'conceptId': [10010, 10020, 10030, 10040, 10050, 10051, 10060, 10080, 10081],\n",
    "    'conceptName': ['Same', 'Will be changed', 'Same 2', 'Not in 2', \n",
    "                   'Double 1 Same',  'Double 2 will change',\n",
    "                   'Only in 1',\n",
    "                   'Double 3 Same', 'Double 3 Same'\n",
    "                   ]\n",
    "}\n",
    "\n",
    "testdata2 = {\n",
    "    'sourceCode': [10, 20, 30, 40, 50, 50, 70, 80, 80],\n",
    "    'sourceName': ['Same', 'Will be changed', 'Same 2', 'Not in 2', \n",
    "                   'Double 1 Same',  'Double 2 will change',\n",
    "                   'Only in 2',\n",
    "                   'Double 3 Same', 'Double 3 Same'],\n",
    "    'conceptId': [10010, 10021, 10030, 10040, 10050, 10052, 10070, 10080, 10081],\n",
    "    'conceptName': ['Same', 'Has changed', 'Same 2', 'Not in 2', \n",
    "                    'Double 1 Ssame',  'Double 2 has changed',\n",
    "                    'Only in 2',\n",
    "                    'Double 3 Same', 'Double 3 Same']\n",
    "}\n",
    "testdata1 = pd.DataFrame(testdata1)\n",
    "testdata2 = pd.DataFrame(testdata2)"
   ]
  },
  {
   "cell_type": "code",
   "execution_count": null,
   "id": "3",
   "metadata": {},
   "outputs": [],
   "source": [
    "# Row level comparision: Simple merge using multiindex on sourceCode and conceptd\n",
    "df1 = testdata1.copy()\n",
    "df2 = testdata2.copy()\n",
    "\n",
    "df1.set_index(['sourceCode', 'conceptId'], inplace=True)\n",
    "df2.set_index(['sourceCode', 'conceptId'], inplace=True)\n",
    "df1\n",
    "\n",
    "df_merge = pd.merge(df1,df2, how='outer', left_index=True, right_index=True)\n",
    "display(df_merge)"
   ]
  },
  {
   "cell_type": "markdown",
   "id": "4",
   "metadata": {},
   "source": [
    "## Test functions: Set-based comparison"
   ]
  },
  {
   "cell_type": "code",
   "execution_count": null,
   "id": "5",
   "metadata": {},
   "outputs": [],
   "source": [
    "# compare_dfs as conceptId sets (usefull for one-to-many mappings)\n",
    "\n",
    "# Reload the module to reflect any changes\n",
    "importlib.reload(omop_mapping_utils)\n",
    "# Now you can use the updated function\n",
    "import omop_mapping_utils as omp\n",
    "from omop_mapping_utils import compare_dataframes\n",
    "\n",
    "\n",
    "# unit test\n",
    "df1 = collapse_rows(testdata1.copy())\n",
    "df2 = collapse_rows(testdata2.copy())\n",
    "#display(df1)\n",
    "#display(df2)\n",
    "\n",
    "# Testing internal function:\n",
    "result = omp.compare_collapsed_dfs(df1, df2, 'sourceCode', 'conceptId')\n",
    "display(result)\n",
    "\n",
    "# Testing function \n",
    "result = omp.compare_dfs(testdata1, testdata2)\n",
    "display(result)\n",
    "\n",
    "result = omp.compare_dfs(testdata1, testdata2, how='conceptName')\n",
    "show(result)\n"
   ]
  },
  {
   "cell_type": "code",
   "execution_count": null,
   "id": "6",
   "metadata": {},
   "outputs": [],
   "source": [
    "import pandas as pd\n",
    "from itables import init_notebook_mode, show\n",
    "\n",
    "# Initialize itables for notebook mode\n",
    "init_notebook_mode(all_interactive=True)\n",
    "\n",
    "# Create a sample DataFrame\n",
    "data = {\n",
    "    'sourceCode': ['A0sdfasdfsagsfffffffffff1', 'A02', 'A03'],\n",
    "    'conceptId': [[1001, 1002], [1003], [1004, 1005]],\n",
    "    'value': [10, 20, 30]\n",
    "}\n",
    "\n",
    "df = pd.DataFrame(data)\n",
    "\n",
    "# Define a function to limit characters in each column\n",
    "def limit_characters(value, max_chars=40):\n",
    "    if len(str(value))>max_chars:\n",
    "        value = str(value)[:max_chars] + '...'\n",
    "    return value\n",
    "\n",
    "# Apply the character limit function to each column\n",
    "df = df.map(limit_characters)\n",
    "\n",
    "# Display the DataFrame with left-aligned columns and limited characters\n",
    "show(df, columnDefs=[\n",
    "    {\"targets\": \"_all\", \"className\": \"dt-left\", }\n",
    "])\n",
    "\n"
   ]
  },
  {
   "cell_type": "markdown",
   "id": "7",
   "metadata": {},
   "source": [
    "## Compare usagi files: set-based "
   ]
  },
  {
   "cell_type": "code",
   "execution_count": null,
   "id": "8",
   "metadata": {},
   "outputs": [],
   "source": [
    "# Reload the module to reflect any changes\n",
    "importlib.reload(omop_mapping_utils)\n",
    "# Now you can use the updated function\n",
    "import omop_mapping_utils as omp\n",
    "from omop_mapping_utils import compare_dataframes\n",
    "\n",
    "filepath = \"testdata\"\n",
    "df1 = pd.read_csv(f\"{filepath}/ICD10fi.usagi.csv\")\n",
    "df2 = pd.read_csv(f\"{filepath}/ICD10fi.fixedEF.usagi.csv\")\n",
    "\n",
    "# Simple:\n",
    "result = omp.compare_dfs(df1, df2)\n",
    "display(result)\n",
    "\n",
    "# Full info:\n",
    "result = omp.compare_dfs(df1, df2, how='conceptName')\n",
    "show(result.map(limit_characters), scrollY=\"400px\", scrollCollapse=True, paging=False, column_filters=\"footer\")\n",
    "\n",
    "showresult = result.query(\"Comparison=='Different'\")\n",
    "limitcols = ['sourceName', 'conceptName']\n",
    "showresult.loc[:,limitcols] = showresult.loc[:,limitcols].map(limit_characters)\n",
    "show(showresult, scrollY=\"400px\", scrollCollapse=True, paging=False, column_filters=\"footer\")\n"
   ]
  },
  {
   "cell_type": "markdown",
   "id": "9",
   "metadata": {},
   "source": [
    "## Compare usagi files: direct"
   ]
  },
  {
   "cell_type": "code",
   "execution_count": null,
   "id": "10",
   "metadata": {},
   "outputs": [],
   "source": [
    "filepath = \"testdata\"\n",
    "df1 = pd.read_csv(f\"{filepath}/ICD10fi.usagi.csv\")\n",
    "df2 = pd.read_csv(f\"{filepath}/ICD10fi.fixedEF.usagi.csv\")\n",
    "\n",
    "compared_df = omp.compare_dataframes(df1, df2, merge_columns)\n",
    "\n",
    "display(compared_df)"
   ]
  },
  {
   "cell_type": "markdown",
   "id": "11",
   "metadata": {},
   "source": [
    "## Compare usagi files: manual"
   ]
  },
  {
   "cell_type": "code",
   "execution_count": null,
   "id": "12",
   "metadata": {},
   "outputs": [],
   "source": [
    "filepath = \"testdata\"\n",
    "df1 = pd.read_csv(f\"{filepath}/ICD10fi.usagi.csv\")\n",
    "df2 = pd.read_csv(f\"{filepath}/ICD10fi.fixedEF.usagi.csv\")\n",
    "\n",
    "df1.set_index(['sourceCode', 'conceptId'], inplace=True)\n",
    "df2.set_index(['sourceCode', 'conceptId'], inplace=True)\n",
    "\n",
    "df_merge = pd.merge(df1,df2, how='outer', left_index=True, right_index=True)\n",
    "display(df_merge)"
   ]
  },
  {
   "cell_type": "markdown",
   "id": "13",
   "metadata": {},
   "source": [
    "# Development section"
   ]
  },
  {
   "cell_type": "code",
   "execution_count": null,
   "id": "14",
   "metadata": {},
   "outputs": [],
   "source": [
    "import importlib\n",
    "import omop_mapping_utils as omp\n",
    "\n",
    "# Reload the module to reflect any changes\n",
    "importlib.reload(omop_mapping_utils)\n",
    "\n",
    "# Now you can use the updated function\n",
    "import omop_mapping_utils as omp\n",
    "from omop_mapping_utils import compare_dataframes\n",
    "\n",
    "merge_columns = [\"sourceCode\"]\n",
    "df1 = testdata1\n",
    "df2 = testdata2\n",
    "compared_df = omp.compare_dataframes(df1, df2, merge_columns)"
   ]
  },
  {
   "cell_type": "code",
   "execution_count": null,
   "id": "15",
   "metadata": {},
   "outputs": [],
   "source": [
    "compared_df\n",
    "\n",
    "# looking at A02.2+H22.0, we can see that this is a double mapping, and in the merge, all combinations are used. \n",
    "# That is not what we want => compare \n",
    "# - single mapping on sourceCode and mutiple mappings on source code, \n",
    "# - multiple mappings on sourceCode and conceptId\n",
    "\n",
    "# TODO:\n",
    "#  - test wether this works as expected:\n",
    "#    1.1 mappings that are missing in either df are found and highlited\n",
    "#    1.2 same for muliple mappings"
   ]
  },
  {
   "cell_type": "code",
   "execution_count": null,
   "id": "16",
   "metadata": {},
   "outputs": [],
   "source": [
    "# unit test\n",
    "\n",
    "# first step is to filter tow df with singe and double mappings, respectively\n",
    "importlib.reload(omop_mapping_utils)\n",
    "import omop_mapping_utils\n",
    "from omop_mapping_utils import split_single_and_multiple_occurrences\n",
    "\n",
    "df1_single, df1_multiple = split_single_and_multiple_occurrences(testdata1, column_name=\"sourceCode\")\n",
    "\n",
    "display(df1_single)\n",
    "display(df1_multiple)\n",
    "\n",
    "# 2nd step is to compare each\n",
    "merge_columns = [\"sourceCode\"]\n",
    "# for sinle comparisons, remove the double sourcecodes fomr df1 in df2 (they will be covered in the mult comparision.  \n",
    "testdata2_singlefiltered = omp.remove_common_rows(testdata2, df1_multiple, column_name='sourceCode')\n",
    "# conversely, remove single sourcecodes for mult comparision:\n",
    "testdata2_doublefiltered = omp.remove_common_rows(testdata2, df1_single, column_name='sourceCode')\n",
    "#\n",
    "compared_df_single = omp.compare_dataframes(df1_single, testdata2_singlefiltered, merge_columns)\n",
    "compared_df_multiple = omp.compare_dataframes(df1_multiple, testdata2_doublefiltered, [\"sourceCode\", \"conceptId\"])\n",
    "\n",
    "display(compared_df_single)\n",
    "display(compared_df_multiple)"
   ]
  },
  {
   "cell_type": "code",
   "execution_count": null,
   "id": "17",
   "metadata": {},
   "outputs": [],
   "source": [
    "# first step is to filter tow df with singe and double mappings, respectively\n",
    "importlib.reload(omop_mapping_utils)\n",
    "from omop_mapping_utils import split_single_and_multiple_occurrences\n",
    "\n",
    "df1_single, df1_multiple = split_single_and_multiple_occurrences(df1, column_name=\"sourceCode\")\n",
    "\n",
    "display(df1_single)\n",
    "display(df1_multiple)"
   ]
  },
  {
   "cell_type": "code",
   "execution_count": null,
   "id": "18",
   "metadata": {},
   "outputs": [],
   "source": [
    "# next step: compare single vs new on sourceCode and mult vs new on sourceCode and conceptId \n",
    "# Question: DO we need to also treat sinlge and multiple in right df seperatley? Or do we get what we need like this already?\n",
    "#  Answer: no because now we have a lot of right only from the right df. \n",
    "\n",
    "merge_columns = [\"sourceCode\"]\n",
    "compared_df_single = compare_dataframes(df1_single, df2, merge_columns)\n",
    "compared_df_multiple = compare_dataframes(df1_multiple, df2, [\"sourceCode\", \"conceptId\"])\n",
    "\n",
    "display(compared_df_single)\n",
    "display(compared_df_multiple)"
   ]
  }
 ],
 "metadata": {
  "kernelspec": {
   "display_name": "Python 3 (ipykernel)",
   "language": "python",
   "name": "python3"
  },
  "language_info": {
   "codemirror_mode": {
    "name": "ipython",
    "version": 3
   },
   "file_extension": ".py",
   "mimetype": "text/x-python",
   "name": "python",
   "nbconvert_exporter": "python",
   "pygments_lexer": "ipython3",
   "version": "3.11.5"
  }
 },
 "nbformat": 4,
 "nbformat_minor": 5
}

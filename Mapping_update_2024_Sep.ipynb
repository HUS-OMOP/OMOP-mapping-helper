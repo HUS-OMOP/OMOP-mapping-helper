{
 "cells": [
  {
   "cell_type": "code",
   "execution_count": null,
   "id": "0",
   "metadata": {},
   "outputs": [],
   "source": [
    "import pandas as pd\n",
    "import omop_mapping_utils as omp\n",
    "from itables import init_notebook_mode, show\n",
    "\n",
    "init_notebook_mode(all_interactive=True)\n",
    "\n",
    "filepath = \"testdata\"\n",
    "#df1 = pd.read_csv(f\"{filepath}/ICD10fi.usagi.csv\")\n",
    "#df2 = pd.read_csv(f\"{filepath}/ICD10fi.fixedEF.usagi.csv\")\n",
    "\n",
    "ncspfi = pd.read_csv(filepath + \"/\" + \"NCSPfi.usagi.csv\")\n",
    "phems = pd.read_csv(filepath + \"/\" + \"PHEMS_prioritised_fi.csv\")\n",
    "\n",
    "df = ncspfi.copy()\n",
    "limitcols = ['sourceName', 'ADD_INFO:sourceName_fi', 'conceptName']\n",
    "df.loc[:,limitcols] = df.loc[:,limitcols].map(omp.limit_characters)\n",
    "show(df, scrollY=\"400px\", scrollCollapse=True, paging=False)\n",
    "\n",
    "df = phems.copy()\n",
    "limitcols = ['sourceName', 'ADD_INFO:sourceName_fi', 'conceptName']\n",
    "df.loc[:,limitcols] = df.loc[:,limitcols].map(omp.limit_characters)\n",
    "show(df, scrollY=\"400px\", scrollCollapse=True, paging=False)\n"
   ]
  },
  {
   "cell_type": "code",
   "execution_count": null,
   "id": "1",
   "metadata": {},
   "outputs": [],
   "source": [
    "# Simple:\n",
    "result = omp.compare_dfs(ncspfi, phems)\n",
    "display(result)\n",
    "\n",
    "# Full info:\n",
    "result = omp.compare_dfs(ncspfi, phems, how='conceptName')\n",
    "#show(result.map(omp.limit_characters), scrollY=\"400px\", scrollCollapse=True, paging=False, column_filters=\"footer\")\n",
    "\n",
    "showresult = result.query(\"_merge!='left_only'\")\n",
    "limitcols = ['sourceName', 'conceptName']\n",
    "showresult.loc[:,limitcols] = showresult.loc[:,limitcols].map(omp.limit_characters)\n",
    "show(showresult, scrollY=\"400px\", scrollCollapse=True, paging=False, column_filters=\"footer\")"
   ]
  }
 ],
 "metadata": {
  "kernelspec": {
   "display_name": "Python 3 (ipykernel)",
   "language": "python",
   "name": "python3"
  },
  "language_info": {
   "codemirror_mode": {
    "name": "ipython",
    "version": 3
   },
   "file_extension": ".py",
   "mimetype": "text/x-python",
   "name": "python",
   "nbconvert_exporter": "python",
   "pygments_lexer": "ipython3",
   "version": "3.11.5"
  }
 },
 "nbformat": 4,
 "nbformat_minor": 5
}
